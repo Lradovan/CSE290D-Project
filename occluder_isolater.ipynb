{
 "cells": [
  {
   "cell_type": "code",
   "execution_count": null,
   "metadata": {
    "vscode": {
     "languageId": "plaintext"
    }
   },
   "outputs": [],
   "source": [
    "from pathlib import Path\n",
    "\n",
    "import cv2\n",
    "import numpy as np\n",
    "import os\n",
    "\n",
    "from ultralytics import YOLO\n",
    "\n",
    "# https://docs.ultralytics.com/guides/isolating-segmentation-objects/#recipe-walk-through \n",
    "# https://docs.ultralytics.com/modes/predict/#key-features-of-predict-mode \n",
    "\n",
    "m = YOLO(\"yolo11n-seg.pt\")  \n",
    "directory = './Images'\n",
    "# some path to images\n",
    "files = [directory + f.split('/')[-1] for f in os.listdir(directory)]\n",
    "res = m([files])  \n",
    "\n",
    "# Iterate detection results \n",
    "for r in res:\n",
    "    img = np.copy(r.orig_img)\n",
    "    img_name = Path(r.path).stem\n",
    "\n",
    "     # Iterate each object contour\n",
    "    for ci, c in enumerate(r):\n",
    "        label = c.names[c.boxes.cls.tolist().pop()]\n",
    "\n",
    "        # Create an empty mask\n",
    "        b_mask = np.zeros(img.shape[:2], np.uint8)\n",
    "\n",
    "        # Draw the contour of the object on the mask (object as white, background as black)\n",
    "        contour = c.masks.xy.pop().astype(np.int32).reshape(-1, 1, 2)\n",
    "        _ = cv2.drawContours(b_mask, [contour], -1, 255, cv2.FILLED)\n",
    "\n",
    "        # Save the mask as a binary mask file (white object, black background)\n",
    "        _ = cv2.imwrite(f\"./Masks/{img_name}.png\", b_mask)\n",
    "\n",
    "        # # OPTION: Isolate object with transparent background (useful for PNGs)\n",
    "        # isolated = np.dstack([img, b_mask])\n",
    "\n",
    "        # # Crop image to the object region using bounding box coordinates\n",
    "        # x1, y1, x2, y2 = c.boxes.xyxy.cpu().numpy().squeeze().astype(np.int32)\n",
    "        # iso_crop = isolated[y1:y2, x1:x2]\n",
    "\n",
    "        # # Save the isolated object with transparency\n",
    "        # _ = cv2.imwrite(\"./Masks/{img_name}_{label}-{ci}.png\", iso_crop)"
   ]
  }
 ],
 "metadata": {
  "kernelspec": {
   "display_name": "",
   "name": ""
  },
  "language_info": {
   "name": "python"
  }
 },
 "nbformat": 4,
 "nbformat_minor": 4
}
