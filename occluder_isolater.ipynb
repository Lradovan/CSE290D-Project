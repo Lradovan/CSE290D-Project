{
 "cells": [
  {
   "cell_type": "code",
   "execution_count": null,
   "metadata": {
    "vscode": {
     "languageId": "plaintext"
    }
   },
   "outputs": [],
   "source": [
    "from pathlib import Path\n",
    "\n",
    "import cv2\n",
    "import numpy as np\n",
    "\n",
    "from ultralytics import YOLO\n",
    "\n",
    "# https://docs.ultralytics.com/guides/isolating-segmentation-objects/#recipe-walk-through \n",
    "# https://docs.ultralytics.com/modes/predict/#key-features-of-predict-mode \n",
    "\n",
    "m = YOLO(\"yolo11n-seg.pt\")  \n",
    "res = m([\"fg_img_67.jpg\"])  \n",
    "\n",
    "# Iterate detection results \n",
    "for r in res:\n",
    "    img = np.copy(r.orig_img)\n",
    "    img_name = Path(r.path).stem\n",
    "\n",
    "    # Iterate each object contour \n",
    "    for ci, c in enumerate(r):\n",
    "        label = c.names[c.boxes.cls.tolist().pop()]\n",
    "\n",
    "        b_mask = np.zeros(img.shape[:2], np.uint8)\n",
    "\n",
    "\n",
    "        # Create contour mask \n",
    "        contour = c.masks.xy.pop().astype(np.int32).reshape(-1, 1, 2)\n",
    "        _ = cv2.drawContours(b_mask, [contour], -1, (255, 255, 255), cv2.FILLED)\n",
    "\n",
    "        # Choose one:\n",
    "\n",
    "        # # OPTION-1: Isolate object with black background\n",
    "        # mask3ch = cv2.cvtColor(b_mask, cv2.COLOR_GRAY2BGR)\n",
    "        # isolated = cv2.bitwise_and(mask3ch, img)\n",
    "\n",
    "        # OPTION-2: Isolate object with transparent background (when saved as PNG)\n",
    "        isolated = np.dstack([img, b_mask])\n",
    "\n",
    "        # # OPTIONAL: detection crop (from either OPT1 or OPT2)\n",
    "        # x1, y1, x2, y2 = c.boxes.xyxy.cpu().numpy().squeeze().astype(np.int32)\n",
    "        # iso_crop = isolated[y1:y2, x1:x2]\n",
    "\n",
    "        # TODO your actions go here \n",
    "\n",
    "        #  Bounding box coordinates\n",
    "        x1, y1, x2, y2 = c.boxes.xyxy.cpu().numpy().squeeze().astype(np.int32)\n",
    "        # Crop image to object region\n",
    "        iso_crop = isolated[y1:y2, x1:x2]\n",
    "\n",
    "        # Save isolated object to file\n",
    "        _ = cv2.imwrite(f\"{img_name}_{label}-{ci}.png\", iso_crop)"
   ]
  }
 ],
 "metadata": {
  "language_info": {
   "name": "python"
  }
 },
 "nbformat": 4,
 "nbformat_minor": 2
}
