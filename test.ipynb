{
 "cells": [
  {
   "cell_type": "code",
   "execution_count": 1,
   "id": "16864bb4-4011-495a-82be-4e8b0e5a55f9",
   "metadata": {},
   "outputs": [
    {
     "name": "stderr",
     "output_type": "stream",
     "text": [
      "***Python 3.8 Deprecation Notice***\n",
      "Python 3.8 will no longer be supported in new releases after October 1, 2024.\n",
      "Please upgrade to Python 3.9 or later.\n",
      "For additional details please see https://deprecation.voxel51.com\n"
     ]
    },
    {
     "name": "stdout",
     "output_type": "stream",
     "text": [
      "Downloading split 'validation' to '/home/lradovan/fiftyone/coco-2017/validation' if necessary\n",
      "Found annotations at '/home/lradovan/fiftyone/coco-2017/raw/instances_val2017.json'\n",
      "Sufficient images already downloaded\n",
      "Existing download of split 'validation' is sufficient\n"
     ]
    },
    {
     "name": "stderr",
     "output_type": "stream",
     "text": [
      "***Python 3.8 Deprecation Notice***\n",
      "Python 3.8 will no longer be supported in new releases after October 1, 2024.\n",
      "Please upgrade to Python 3.9 or later.\n",
      "For additional details please see https://deprecation.voxel51.com\n"
     ]
    },
    {
     "name": "stdout",
     "output_type": "stream",
     "text": [
      "Loading existing dataset 'coco-2017-validation-10'. To reload from disk, either delete the existing dataset or provide a custom `dataset_name` to use\n"
     ]
    }
   ],
   "source": [
    "import fiftyone as fo\n",
    "from fiftyone import ViewField as F\n",
    "\n",
    "# Load a small dataset\n",
    "dataset = fo.zoo.load_zoo_dataset(\n",
    "    \"coco-2017\",\n",
    "    split=\"validation\",\n",
    "    label_types=[\"detections\"],\n",
    "    max_samples=10,\n",
    ")"
   ]
  },
  {
   "cell_type": "code",
   "execution_count": 3,
   "id": "56ffa7aa-ce11-4fcf-8783-4b9200da2461",
   "metadata": {},
   "outputs": [
    {
     "name": "stdout",
     "output_type": "stream",
     "text": [
      "\n",
      "Image path: /home/lradovan/fiftyone/coco-2017/validation/data/000000000785.jpg\n",
      "Largest object: person\n",
      "Box coordinates: [280, 44, 499, 391]\n"
     ]
    }
   ],
   "source": [
    "from libcom import ControlComModel\n",
    "from libcom.utils.process_image import make_image_grid, draw_bbox_on_image\n",
    "import cv2\n",
    "\n",
    "# Helper function to get area of a bounding box\n",
    "def get_box_area(box):\n",
    "    # box format is [x, y, width, height]\n",
    "    return box[2] * box[3]\n",
    "\n",
    "fg_img = '/home/lradovan/workspace/libcom/tests/source/foreground/1.jpg'\n",
    "mask = '/home/lradovan/workspace/libcom/tests/source/foreground_mask/1.png'\n",
    "\n",
    "# Print info about each sample and its largest box\n",
    "for sample in dataset[5:6]:\n",
    "    # print(sample)\n",
    "    detections = sample.ground_truth.detections\n",
    "    if len(detections) > 0:\n",
    "        print(f\"\\nImage path: {sample.filepath}\")\n",
    "        \n",
    "        # Find largest bounding box\n",
    "        largest_det = max(detections, key=lambda d: get_box_area(d.bounding_box))\n",
    "\n",
    "        # get bbox\n",
    "        bbox = largest_det.bounding_box\n",
    "        width = sample.metadata.width\n",
    "        height = sample.metadata.height\n",
    "        \n",
    "        x1 = int(bbox[0] * width)\n",
    "        y1 = int(bbox[1] * height)\n",
    "        x2 = int((bbox[0] + bbox[2]) * width)  # Corrected calculation for x2\n",
    "        y2 = int((bbox[1] + bbox[3]) * height)\n",
    "\n",
    "        # this \n",
    "        bbox = [x1, y1, x2, y2]\n",
    "\n",
    "        occluded = largest_det.label\n",
    "        bg_img = sample.filepath\n",
    "        print(f\"Largest object: {occluded}\")\n",
    "        print(f\"Box coordinates: {bbox}\")\n",
    "        net     = ControlComModel(device=0)\n",
    "        comp    = net(bg_img, fg_img, bbox, mask, task=['blending', 'harmonization'])\n",
    "        bg_img  = draw_bbox_on_image(bg_img, bbox)\n",
    "        grid_img = make_image_grid([bg_img, fg_img, comp[0], comp[1]])\n",
    "        cv2.imwrite('./out.jpg', grid_img)"
   ]
  },
  {
   "cell_type": "code",
   "execution_count": null,
   "id": "47fde40e-fccf-4046-94a3-7745b93c2371",
   "metadata": {},
   "outputs": [],
   "source": []
  }
 ],
 "metadata": {
  "kernelspec": {
   "display_name": "LibCom Environment",
   "language": "python",
   "name": "libcom"
  },
  "language_info": {
   "codemirror_mode": {
    "name": "ipython",
    "version": 3
   },
   "file_extension": ".py",
   "mimetype": "text/x-python",
   "name": "python",
   "nbconvert_exporter": "python",
   "pygments_lexer": "ipython3",
   "version": "3.8.5"
  }
 },
 "nbformat": 4,
 "nbformat_minor": 5
}
