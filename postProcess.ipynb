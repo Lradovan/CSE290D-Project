{
 "cells": [
  {
   "cell_type": "code",
   "execution_count": 13,
   "id": "d0e7e2d9-2af1-4d6d-8b42-5fa4e4497c9d",
   "metadata": {
    "tags": []
   },
   "outputs": [],
   "source": [
    "bbox = [79, 115, 467, 333]"
   ]
  },
  {
   "cell_type": "code",
   "execution_count": 28,
   "id": "7e701586-fbff-4c82-9154-29029d8c4802",
   "metadata": {
    "tags": []
   },
   "outputs": [
    {
     "name": "stdout",
     "output_type": "stream",
     "text": [
      "No module 'xformers'. Proceeding without it.\n"
     ]
    },
    {
     "name": "stderr",
     "output_type": "stream",
     "text": [
      "/opt/conda/envs/Libcom/lib/python3.8/site-packages/pytorch_lightning/utilities/distributed.py:258: LightningDeprecationWarning: `pytorch_lightning.utilities.distributed.rank_zero_only` has been deprecated in v1.8.1 and will be removed in v2.0.0. You can import it from `pytorch_lightning.utilities` instead.\n",
      "  rank_zero_deprecation(\n"
     ]
    }
   ],
   "source": [
    "from libcom import get_composite_image\n",
    "\n",
    "comp, _ = get_composite_image('realistic/images/medium/n02924116_42328.jpg', 'output_mask.png', 'BG/n02924116_42328.JPEG', [79, 115, 467, 333], 'gaussian')"
   ]
  },
  {
   "cell_type": "code",
   "execution_count": 20,
   "id": "1d8dd8b7-f851-42b0-8d3a-e6fe3b71d7d8",
   "metadata": {
    "tags": []
   },
   "outputs": [],
   "source": [
    "from libcom import color_transfer"
   ]
  },
  {
   "cell_type": "code",
   "execution_count": 30,
   "id": "56ba42a7-9536-4746-a739-6605ad87345e",
   "metadata": {
    "tags": []
   },
   "outputs": [
    {
     "data": {
      "text/plain": [
       "True"
      ]
     },
     "execution_count": 30,
     "metadata": {},
     "output_type": "execute_result"
    }
   ],
   "source": [
    "import cv2\n",
    "\n",
    "cv2.imwrite('naive.jpg', comp)"
   ]
  },
  {
   "cell_type": "code",
   "execution_count": 21,
   "id": "2a404865-a99b-4b02-a260-5a6327de5c0f",
   "metadata": {
    "tags": []
   },
   "outputs": [],
   "source": [
    "from libcom import ImageHarmonizationModel\n",
    "\n",
    "CDTNet = ImageHarmonizationModel(device=0, model_type='CDTNet')"
   ]
  },
  {
   "cell_type": "code",
   "execution_count": 24,
   "id": "b4309353-6d97-4119-832d-927f7d0f8a13",
   "metadata": {
    "tags": []
   },
   "outputs": [
    {
     "data": {
      "text/plain": [
       "True"
      ]
     },
     "execution_count": 24,
     "metadata": {},
     "output_type": "execute_result"
    }
   ],
   "source": [
    "from libcom import color_transfer\n",
    "\n",
    "trans_img1 = color_transfer('naive.jpg', 'test_0.png')\n",
    "\n",
    "cv2.imwrite('trans_naive.jpg', comp)"
   ]
  },
  {
   "cell_type": "code",
   "execution_count": 22,
   "id": "09485664-8cc9-4bf0-afe6-cf1210d47494",
   "metadata": {
    "tags": []
   },
   "outputs": [],
   "source": [
    "CDT_result1 = CDTNet('naive.jpg', 'test_0.png')"
   ]
  },
  {
   "cell_type": "code",
   "execution_count": 23,
   "id": "b4407b1c-dc66-4e6f-88fc-9d62e98b931e",
   "metadata": {
    "tags": []
   },
   "outputs": [
    {
     "data": {
      "text/plain": [
       "True"
      ]
     },
     "execution_count": 23,
     "metadata": {},
     "output_type": "execute_result"
    }
   ],
   "source": [
    "cv2.imwrite('naive_harmo.jpg', comp)"
   ]
  },
  {
   "cell_type": "code",
   "execution_count": 19,
   "id": "59743c82-3fd8-4867-a92e-9d19b121806c",
   "metadata": {
    "tags": []
   },
   "outputs": [],
   "source": [
    "import torch\n",
    "# get the original mask\n",
    "mask_path = \"FG/n02924116_42328_mask.png\"\n",
    "bw_mask = np.array(Image.open(mask_path).convert('L'))\n",
    "\n",
    "binary_mask = (bw_mask > 128).astype(np.uint8)\n",
    "\n",
    "mask_tensor = torch.from_numpy(binary_mask).float()\n",
    "mask_tensor = mask_tensor.unsqueeze(0).unsqueeze(0)"
   ]
  },
  {
   "cell_type": "code",
   "execution_count": 20,
   "id": "e06ca58c-46c3-4f81-a5ff-4e1533645df4",
   "metadata": {
    "tags": []
   },
   "outputs": [
    {
     "name": "stdout",
     "output_type": "stream",
     "text": [
      "tensor([[[[0., 0., 0.,  ..., 0., 0., 0.],\n",
      "          [0., 0., 0.,  ..., 0., 0., 0.],\n",
      "          [0., 0., 0.,  ..., 0., 0., 0.],\n",
      "          ...,\n",
      "          [0., 0., 0.,  ..., 0., 0., 0.],\n",
      "          [0., 0., 0.,  ..., 0., 0., 0.],\n",
      "          [0., 0., 0.,  ..., 0., 0., 0.]]]])\n"
     ]
    }
   ],
   "source": [
    "print(mask_tensor)"
   ]
  },
  {
   "cell_type": "code",
   "execution_count": 29,
   "id": "d929fbd7-4a99-4799-9c9a-9100c8455aea",
   "metadata": {
    "tags": []
   },
   "outputs": [],
   "source": [
    "from PIL import Image\n",
    "\n",
    "img = Image.open('naive.jpg')\n",
    "\n",
    "img = img.crop((0, 0, img.size[0], img.size[1] - 12))\n",
    "         \n",
    "img.save('naive_cropped.jpg')"
   ]
  },
  {
   "cell_type": "code",
   "execution_count": 23,
   "id": "ba78ef83-ba42-4602-affe-aae8fd32cc45",
   "metadata": {
    "tags": []
   },
   "outputs": [],
   "source": [
    "bbox = [79, 115, 467, 333]\n",
    "\n",
    "input_label = np.array([1])\n",
    "center_x = (bbox[0] + bbox[2]) // 2  # Average of x1 and x2\n",
    "center_y = (bbox[1] + bbox[3]) // 2  # Average of y1 and y2\n",
    "center_point = np.array([[center_x, center_y]])"
   ]
  },
  {
   "cell_type": "code",
   "execution_count": 24,
   "id": "490180b5-0d3a-4de6-960f-c54184023387",
   "metadata": {},
   "outputs": [],
   "source": [
    "from PIL import Image\n",
    "import numpy as np\n",
    "\n",
    "device = \"cuda\"\n",
    "from segment_anything import SamPredictor, sam_model_registry\n",
    "sam = sam_model_registry[\"vit_h\"](checkpoint=\"./sam_vit_h_4b8939.pth\")\n",
    "sam.to(device)\n",
    "predictor = SamPredictor(sam)\n",
    "predictor.set_image(np.array(Image.open('naive.jpg')))\n",
    "masks, scores, logits = predictor.predict(\n",
    "    point_coords=center_point,\n",
    "    point_labels=input_label,\n",
    "    multimask_output=False\n",
    ")"
   ]
  },
  {
   "cell_type": "code",
   "execution_count": 25,
   "id": "51bc32c0-cabc-4daa-bae5-f66ba1c9d6b9",
   "metadata": {
    "tags": []
   },
   "outputs": [
    {
     "data": {
      "text/plain": [
       "array([[[False, False, False, ..., False, False, False],\n",
       "        [False, False, False, ..., False, False, False],\n",
       "        [False, False, False, ..., False, False, False],\n",
       "        ...,\n",
       "        [False, False, False, ..., False, False, False],\n",
       "        [False, False, False, ..., False, False, False],\n",
       "        [False, False, False, ..., False, False, False]]])"
      ]
     },
     "execution_count": 25,
     "metadata": {},
     "output_type": "execute_result"
    }
   ],
   "source": [
    "masks"
   ]
  },
  {
   "cell_type": "code",
   "execution_count": 55,
   "id": "6093d7f2-71e1-4d07-a83d-80f9c897abf1",
   "metadata": {
    "tags": []
   },
   "outputs": [],
   "source": [
    "from libcom import get_composite_image\n",
    "import json\n",
    "\n",
    "def post_process(occ_level, image_path, predictor):\n",
    "    \n",
    "    # get annotation\n",
    "    img_id = image_path.split('/')[-1].split('.')[0]\n",
    "    \n",
    "    # get occluder bbox from annotation\n",
    "    anno_path = f'realistic/annotations/{occ_level}/{img_id}.json'\n",
    "    comp_path = f'realistic/images/{occ_level}/{img_id}.jpg'\n",
    "    \n",
    "    bg_path = f'BG/{img_id}.JPEG'\n",
    "    \n",
    "    with open(anno_path) as f:\n",
    "        d = json.load(f)\n",
    "        \n",
    "    bbox = d['occluder_box']\n",
    "    \n",
    "    # get the center of the occluder bbox\n",
    "    center_x = (bbox[0] + bbox[2]) // 2  # Average of x1 and x2\n",
    "    center_y = (bbox[1] + bbox[3]) // 2  # Average of y1 and y2\n",
    "    center_point = np.array([[center_x, center_y]])\n",
    "    \n",
    "    input_label = np.array([1])\n",
    "    \n",
    "    predictor.set_image(np.array(Image.open(comp_path)))\n",
    "    masks, scores, logits = predictor.predict(\n",
    "        point_coords=center_point,\n",
    "        box=np.array([bbox]),\n",
    "        point_labels=input_label,\n",
    "        multimask_output=False\n",
    "    )\n",
    "    \n",
    "    mask_image = (masks[0].astype(np.uint8) * 255)\n",
    "\n",
    "    # Save the mask as a PNG\n",
    "    Image.fromarray(mask_image).save('temp_mask.png')\n",
    "    \n",
    "    comp, _ = get_composite_image(comp_path, 'temp_mask.png',  bg_path, bbox)\n",
    "    \n",
    "    cv2.imwrite(f'naive_{img_id}.jpg', comp)\n",
    "    # mask the occluder out using the "
   ]
  },
  {
   "cell_type": "code",
   "execution_count": 57,
   "id": "fcfd4e05-c5f6-4c00-9e6d-c1799dde4f1a",
   "metadata": {
    "tags": []
   },
   "outputs": [],
   "source": [
    "device = \"cuda\"\n",
    "from segment_anything import SamPredictor, sam_model_registry\n",
    "sam = sam_model_registry[\"vit_h\"](checkpoint=\"./sam_vit_h_4b8939.pth\")\n",
    "sam.to(device)\n",
    "predictor = SamPredictor(sam)\n",
    "\n",
    "with open('file_list.txt', 'r') as names:\n",
    "    i = 0\n",
    "    for name in names:\n",
    "        occ_level, bg_img_path = name.strip().split(' ')\n",
    "        \n",
    "        post_process(occ_level, bg_img_path, predictor)\n",
    "        i+=1\n",
    "        if i == 5:\n",
    "            break"
   ]
  },
  {
   "cell_type": "code",
   "execution_count": null,
   "id": "dbaae562-5d2d-4197-b949-70803a0d75bb",
   "metadata": {},
   "outputs": [],
   "source": []
  }
 ],
 "metadata": {
  "kernelspec": {
   "display_name": "LibCom Environment (Local)",
   "language": "python",
   "name": "libcom"
  },
  "language_info": {
   "codemirror_mode": {
    "name": "ipython",
    "version": 3
   },
   "file_extension": ".py",
   "mimetype": "text/x-python",
   "name": "python",
   "nbconvert_exporter": "python",
   "pygments_lexer": "ipython3",
   "version": "3.8.5"
  }
 },
 "nbformat": 4,
 "nbformat_minor": 5
}
