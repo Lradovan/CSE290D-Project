{
 "cells": [
  {
   "cell_type": "code",
   "execution_count": 2,
   "id": "6093d7f2-71e1-4d07-a83d-80f9c897abf1",
   "metadata": {
    "tags": []
   },
   "outputs": [],
   "source": [
    "from libcom import get_composite_image\n",
    "import os\n",
    "import numpy as np\n",
    "import json\n",
    "from PIL import Image\n",
    "import cv2\n",
    "\n",
    "def reconstruct(occ_level, image_path, predictor, save_dir):\n",
    "    \n",
    "    # get annotation\n",
    "    img_id = image_path.split('/')[-1].split('.')[0]\n",
    "    \n",
    "    # get occluder bbox from annotation\n",
    "    anno_path = f'realistic/annotations/{occ_level}/{img_id}.json'\n",
    "    comp_path = f'realistic/images/{occ_level}/{img_id}.jpg'\n",
    "    \n",
    "    bg_path = f'BG/{img_id}.JPEG'\n",
    "    \n",
    "    with open(anno_path) as f:\n",
    "        d = json.load(f)\n",
    "        \n",
    "    bbox = d['occluder_box']\n",
    "    \n",
    "    # get the center of the occluder bbox\n",
    "    center_x = (bbox[0] + bbox[2]) // 2  # Average of x1 and x2\n",
    "    center_y = (bbox[1] + bbox[3]) // 2  # Average of y1 and y2\n",
    "    center_point = np.array([[center_x, center_y]])\n",
    "    \n",
    "    input_label = np.array([1])\n",
    "    \n",
    "    predictor.set_image(np.array(Image.open(comp_path)))\n",
    "    masks, scores, logits = predictor.predict(\n",
    "        point_coords=center_point,\n",
    "        box=np.array([bbox]),\n",
    "        point_labels=input_label,\n",
    "        multimask_output=False\n",
    "    )\n",
    "    \n",
    "    mask_image = (masks[0].astype(np.uint8) * 255)\n",
    "\n",
    "    # Save the mask as a PNG\n",
    "    Image.fromarray(mask_image).save('temp_mask.png')\n",
    "    \n",
    "    comp, _ = get_composite_image(comp_path, 'temp_mask.png',  bg_path, bbox, 'gaussian')\n",
    "    \n",
    "    save_path = os.path.join(save_dir, 'images', occ_level, f'{img_id}.jpg')\n",
    "    \n",
    "    cv2.imwrite(save_path, comp)"
   ]
  },
  {
   "cell_type": "code",
   "execution_count": 3,
   "id": "12930813-0b7c-4ab3-ad0b-93de5a89e4f5",
   "metadata": {
    "tags": []
   },
   "outputs": [],
   "source": [
    "import os\n",
    "\n",
    "save_dir = './reconstructed'\n",
    "\n",
    "occ_ranges = ['low', 'medium', 'high']\n",
    "\n",
    "for range_label in occ_ranges:\n",
    "    os.makedirs('./reconstructed/images/' + range_label, exist_ok=True)"
   ]
  },
  {
   "cell_type": "code",
   "execution_count": 4,
   "id": "fcfd4e05-c5f6-4c00-9e6d-c1799dde4f1a",
   "metadata": {
    "tags": []
   },
   "outputs": [],
   "source": [
    "\n",
    "device = \"cuda\"\n",
    "from segment_anything import SamPredictor, sam_model_registry\n",
    "sam = sam_model_registry[\"vit_h\"](checkpoint=\"./sam_vit_h_4b8939.pth\")\n",
    "sam.to(device)\n",
    "predictor = SamPredictor(sam)\n",
    "\n",
    "with open('file_list.txt', 'r') as names:\n",
    "    for name in names:\n",
    "        occ_level, bg_img_path = name.strip().split(' ')\n",
    "        reconstruct(occ_level, bg_img_path, predictor, save_dir)"
   ]
  }
 ],
 "metadata": {
  "kernelspec": {
   "display_name": "LibCom Environment (Local)",
   "language": "python",
   "name": "libcom"
  },
  "language_info": {
   "codemirror_mode": {
    "name": "ipython",
    "version": 3
   },
   "file_extension": ".py",
   "mimetype": "text/x-python",
   "name": "python",
   "nbconvert_exporter": "python",
   "pygments_lexer": "ipython3",
   "version": "3.8.5"
  }
 },
 "nbformat": 4,
 "nbformat_minor": 5
}
