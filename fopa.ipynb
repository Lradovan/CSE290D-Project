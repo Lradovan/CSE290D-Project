{
 "cells": [
  {
   "cell_type": "code",
   "execution_count": 4,
   "id": "82bf80cc-aee0-466c-abc0-f9136748e4ef",
   "metadata": {},
   "outputs": [
    {
     "name": "stderr",
     "output_type": "stream",
     "text": [
      "***Python 3.8 Deprecation Notice***\n",
      "Python 3.8 will no longer be supported in new releases after October 1, 2024.\n",
      "Please upgrade to Python 3.9 or later.\n",
      "For additional details please see https://deprecation.voxel51.com\n"
     ]
    },
    {
     "name": "stdout",
     "output_type": "stream",
     "text": [
      "Downloading split 'validation' to '/home/lradovan/fiftyone/coco-2017/validation' if necessary\n",
      "Found annotations at '/home/lradovan/fiftyone/coco-2017/raw/instances_val2017.json'\n",
      "Sufficient images already downloaded\n",
      "Existing download of split 'validation' is sufficient\n",
      "Loading existing dataset 'coco-2017-validation-10'. To reload from disk, either delete the existing dataset or provide a custom `dataset_name` to use\n"
     ]
    }
   ],
   "source": [
    "import fiftyone as fo\n",
    "from fiftyone import ViewField as F\n",
    "\n",
    "# Load a small dataset\n",
    "dataset = fo.zoo.load_zoo_dataset(\n",
    "    \"coco-2017\",\n",
    "    split=\"validation\",\n",
    "    label_types=[\"detections\"],\n",
    "    max_samples=10,\n",
    ")"
   ]
  },
  {
   "cell_type": "code",
   "execution_count": 5,
   "id": "53198e4d-0862-4f71-b590-22a2e71ec3b2",
   "metadata": {},
   "outputs": [
    {
     "name": "stdout",
     "output_type": "stream",
     "text": [
      "640\n",
      "save result to  ./results/grid/000000000785.jpg\n",
      "end testing!\n"
     ]
    }
   ],
   "source": [
    "from libcom import FOPAHeatMapModel\n",
    "from libcom.utils.process_image import make_image_grid, draw_bbox_on_image\n",
    "import cv2\n",
    "import os\n",
    "\n",
    "fg_img = '/home/lradovan/workspace/libcom/tests/source/foreground/1.jpg'\n",
    "fg_mask = '/home/lradovan/workspace/libcom/tests/source/foreground_mask/1.png'\n",
    "\n",
    "#test_set = get_test_list_fopa_heatmap()\n",
    "\n",
    "test_set = []\n",
    "for sample in dataset[5:6]:\n",
    "    print(sample.metadata.width)\n",
    "    test_set.append({'foreground': fg_img, 'foreground_mask': fg_mask, 'background': sample.filepath})\n",
    "    \n",
    "result_dir = './results/'\n",
    "net = FOPAHeatMapModel(device=0)\n",
    "\n",
    "for pair in test_set[:1]:\n",
    "    fg_img, fg_mask, bg_img = pair['foreground'], pair['foreground_mask'], pair['background']\n",
    "    bboxes, heatmaps = net(fg_img, fg_mask, bg_img, cache_dir=os.path.join(result_dir, 'cache'), heatmap_dir=os.path.join(result_dir, 'heatmap'))\n",
    "    img_name  = os.path.basename(bg_img).replace('.png', '.jpg')\n",
    "    bbox = bboxes[0]\n",
    "    bg_img  = draw_bbox_on_image(bg_img, [bbox[0], bbox[1], bbox[0] + bbox[2], bbox[1] + bbox[3]])\n",
    "    grid_img  = make_image_grid([bg_img, fg_img, heatmaps[0]])\n",
    "    os.makedirs(os.path.join(result_dir, 'grid'), exist_ok=True)\n",
    "    res_path  = os.path.join(result_dir, 'grid', img_name)\n",
    "    cv2.imwrite(res_path, grid_img)\n",
    "    print('save result to ', res_path)\n",
    "print(f'end testing!')"
   ]
  },
  {
   "cell_type": "code",
   "execution_count": 6,
   "id": "e40a3046-ebed-4deb-b3ce-5d75013792ea",
   "metadata": {},
   "outputs": [],
   "source": [
    "# we need some way to get the bounding boxes for the occluders....\n",
    "\n",
    "def get_bbox_list(occludee_bbs, bg_img, fg_w, fg_h):\n",
    "    # for occludee_bb in occludee_bbs:\n",
    "    return 0"
   ]
  },
  {
   "cell_type": "code",
   "execution_count": null,
   "id": "72bb5c37-f15f-4698-a0aa-7183cc4f0210",
   "metadata": {},
   "outputs": [],
   "source": [
    "# IN PROGRESS\n",
    "\n",
    "from libcom import OPAScoreModel\n",
    "from libcom import get_composite_image\n",
    "from libcom.utils.process_image import make_image_grid\n",
    "import cv2\n",
    "\n",
    "net = OPAScoreModel(device=0, model_type='SimOPA')\n",
    "\n",
    "# generate multiple different foreground scales\n",
    "\n",
    "# for each foreground scale, try different locations that allow the bounding box to overlap with the background targets bb\n",
    "\n",
    "# for each scale, take the highest OPA score\n",
    "\n",
    "# take the scaled image with the highest OPA score\n",
    "\n",
    "from libcom.fopa_heat_map.source.prepare_multi_fg_scales import prepare_multi_fg_scales\n",
    "\n",
    "scaled_fg_dir, scaled_mask_dir, csv_file = prepare_multi_fg_scales(cache_dir, foreground_image, foreground_mask, background_image, fg_scale_num)\n",
    " \n",
    "# iterate over the different foreground scales\n",
    "with open(csv_path, mode='r', newline='') as csv_file:\n",
    "    csv_reader = csv.DictReader(csv_file)\n",
    "    score = 0\n",
    "    for row in csv_reader:\n",
    "        fg_name   = '{}_{}_{}_{}.jpg'.format(row[\"fg_name\"].split(\".\")[0],row[\"bg_name\"].split(\".\")[0],int(row[\"newWidth\"]),int(row[\"newHeight\"]))\n",
    "        mask_name = '{}_{}_{}_{}.jpg'.format(row[\"fg_name\"].split(\".\")[0],row[\"bg_name\"].split(\".\")[0],int(row[\"newWidth\"]),int(row[\"newHeight\"]))\n",
    "        scale     = row['scale']\n",
    "        fg_w = int(row['newWidth'])\n",
    "        fg_h = int(row['newHeight'])\n",
    "        save_name = fg_name.split(\".\")[0] + '_' + str(scale) + '.jpg'\n",
    "\n",
    "        bg_img    = read_image_pil(background_image)\n",
    "        fg_img    = read_image_pil(os.path.join(scaled_fg_dir, fg_name))\n",
    "        mask      = read_mask_pil(os.path.join(scaled_mask_dir, mask_name))\n",
    "\n",
    "        bbox_list = get_bbox_list(occluded_bb, bg_img, fg_w, fg_h)\n",
    "\n",
    "        for bbox in bbox_list:\n",
    "            comp, comp_mask = get_composite_image(fg_img, fg_mask, bg_img, bbox_list[0])\n",
    "            bbox_score = net(comp, comp_mask)\n",
    "            if bbox_score > score:\n",
    "                res = comp, comp_mask\n",
    "                score = bbox_score\n",
    "\n",
    "        grid_img  = make_image_grid(res)\n",
    "        cv2.imwrite('/home/lradovan/results/', grid_img)"
   ]
  }
 ],
 "metadata": {
  "kernelspec": {
   "display_name": "LibCom Environment",
   "language": "python",
   "name": "libcom"
  },
  "language_info": {
   "codemirror_mode": {
    "name": "ipython",
    "version": 3
   },
   "file_extension": ".py",
   "mimetype": "text/x-python",
   "name": "python",
   "nbconvert_exporter": "python",
   "pygments_lexer": "ipython3",
   "version": "3.8.5"
  }
 },
 "nbformat": 4,
 "nbformat_minor": 5
}
