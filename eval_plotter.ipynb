{
 "cells": [
  {
   "cell_type": "code",
   "execution_count": null,
   "metadata": {
    "vscode": {
     "languageId": "plaintext"
    }
   },
   "outputs": [],
   "source": [
    "import matplotlib.pyplot as plt\n",
    "\n",
    "# Initialize global storage\n",
    "global_storage = {\n",
    "    'occ_lvl': [],\n",
    "    'confidence': [],\n",
    "    'accuracy_iou': [],\n",
    "    'accuracy_label': []\n",
    "}\n",
    "\n",
    "# Example function to add data\n",
    "def store_metrics(occ_lvl, confidence, accuracy_iou, accuracy_label):\n",
    "    global_storage['occ_lvl'].append(occ_lvl)\n",
    "    global_storage['confidence'].append(confidence)\n",
    "    global_storage['accuracy_iou'].append(accuracy_iou)\n",
    "    global_storage['accuracy_label'].append(accuracy_label)\n",
    "\n",
    "# Function to plot graphs\n",
    "def plot_metrics():\n",
    "    occ_lvl = global_storage['occ_lvl']\n",
    "    plt.figure(figsize=(12, 8))\n",
    "\n",
    "    # Occ. lvl vs Confidence\n",
    "    plt.subplot(3, 1, 1)\n",
    "    plt.plot(occ_lvl, global_storage['confidence'], marker='o')\n",
    "    plt.title(\"Occ. lvl vs Confidence\")\n",
    "    plt.xlabel(\"Occlusion Level\")\n",
    "    plt.ylabel(\"Confidence\")\n",
    "\n",
    "    # Occ. lvl vs Accuracy (IoU)\n",
    "    plt.subplot(3, 1, 2)\n",
    "    plt.plot(occ_lvl, global_storage['accuracy_iou'], marker='o')\n",
    "    plt.title(\"Occ. lvl vs Accuracy (IoU)\")\n",
    "    plt.xlabel(\"Occlusion Level\")\n",
    "    plt.ylabel(\"Accuracy (IoU)\")\n",
    "\n",
    "    # Occ. lvl vs Accuracy (Label Truth)\n",
    "    plt.subplot(3, 1, 3)\n",
    "    plt.plot(occ_lvl, global_storage['accuracy_label'], marker='o')\n",
    "    plt.title(\"Occ. lvl vs Accuracy (Label Truth)\")\n",
    "    plt.xlabel(\"Occlusion Level\")\n",
    "    plt.ylabel(\"Accuracy (Label Truth)\")\n",
    "\n",
    "    plt.tight_layout()\n",
    "    plt.show()\n",
    "\n",
    "# Example of adding metrics\n",
    "store_metrics(0.1, 0.85, 0.9, 0.88)\n",
    "store_metrics(0.2, 0.8, 0.85, 0.86)\n",
    "\n",
    "# Plot the graphs\n",
    "plot_metrics()\n"
   ]
  }
 ],
 "metadata": {
  "language_info": {
   "name": "python"
  }
 },
 "nbformat": 4,
 "nbformat_minor": 2
}
